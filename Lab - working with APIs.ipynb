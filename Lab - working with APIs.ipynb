{
 "cells": [
  {
   "cell_type": "code",
   "execution_count": 1,
   "metadata": {},
   "outputs": [],
   "source": [
    "import requests"
   ]
  },
  {
   "cell_type": "code",
   "execution_count": 3,
   "metadata": {},
   "outputs": [
    {
     "data": {
      "text/plain": [
       "{'Places': [{'PlaceId': 'BCN-sky',\n",
       "   'PlaceName': 'Barcelona',\n",
       "   'CountryId': 'ES-sky',\n",
       "   'RegionId': '',\n",
       "   'CityId': 'BARC-sky',\n",
       "   'CountryName': 'Spain'},\n",
       "  {'PlaceId': 'BLA-sky',\n",
       "   'PlaceName': 'Barcelona',\n",
       "   'CountryId': 'VE-sky',\n",
       "   'RegionId': '',\n",
       "   'CityId': 'BLAA-sky',\n",
       "   'CountryName': 'Venezuela'}]}"
      ]
     },
     "execution_count": 3,
     "metadata": {},
     "output_type": "execute_result"
    }
   ],
   "source": [
    "url = \"https://skyscanner-skyscanner-flight-search-v1.p.rapidapi.com/apiservices/autosuggest/v1.0/UK/GBP/en-GB/\"\n",
    "\n",
    "params = {\"query\":\"Barcelona\"}\n",
    "\n",
    "headers = {'x-rapidapi-host': \"skyscanner-skyscanner-flight-search-v1.p.rapidapi.com\",\n",
    "           'x-rapidapi-key': \"adaffbc7dbmsh9bb4c42f0ec60fdp1d566ajsn9c214feb7bee\"}\n",
    "\n",
    "response = requests.get(url, headers = headers, params = params)\n",
    "response.json()"
   ]
  },
  {
   "cell_type": "code",
   "execution_count": 6,
   "metadata": {
    "scrolled": true
   },
   "outputs": [
    {
     "data": {
      "text/plain": [
       "{'Quotes': [{'QuoteId': 1,\n",
       "   'MinPrice': 299,\n",
       "   'Direct': True,\n",
       "   'OutboundLeg': {'CarrierIds': [870],\n",
       "    'OriginId': 81727,\n",
       "    'DestinationId': 50290,\n",
       "    'DepartureDate': '2021-06-06T00:00:00'},\n",
       "   'QuoteDateTime': '2021-06-06T05:50:00'}],\n",
       " 'Carriers': [{'CarrierId': 870, 'Name': 'jetBlue'}],\n",
       " 'Places': [{'Name': 'New York Newark',\n",
       "   'Type': 'Station',\n",
       "   'PlaceId': 50290,\n",
       "   'IataCode': 'EWR',\n",
       "   'SkyscannerCode': 'EWR',\n",
       "   'CityName': 'New York',\n",
       "   'CityId': 'NYCA',\n",
       "   'CountryName': 'United States'},\n",
       "  {'Name': 'San Francisco International',\n",
       "   'Type': 'Station',\n",
       "   'PlaceId': 81727,\n",
       "   'IataCode': 'SFO',\n",
       "   'SkyscannerCode': 'SFO',\n",
       "   'CityName': 'San Francisco',\n",
       "   'CityId': 'SFOA',\n",
       "   'CountryName': 'United States'}],\n",
       " 'Currencies': [{'Code': 'USD',\n",
       "   'Symbol': '$',\n",
       "   'ThousandsSeparator': ',',\n",
       "   'DecimalSeparator': '.',\n",
       "   'SymbolOnLeft': True,\n",
       "   'SpaceBetweenAmountAndSymbol': False,\n",
       "   'RoundingCoefficient': 0,\n",
       "   'DecimalDigits': 2}]}"
      ]
     },
     "execution_count": 6,
     "metadata": {},
     "output_type": "execute_result"
    }
   ],
   "source": [
    "url = \"https://skyscanner-skyscanner-flight-search-v1.p.rapidapi.com/apiservices/browsequotes/v1.0/US/USD/en-US/SFO-sky/NYCA-sky/2021-06-06\"\n",
    "\n",
    "params = {\"inboundpartialdate\":\"2021-06-06\"}\n",
    "\n",
    "headers = {\n",
    "    'x-rapidapi-host': \"skyscanner-skyscanner-flight-search-v1.p.rapidapi.com\",\n",
    "    'x-rapidapi-key': \"adaffbc7dbmsh9bb4c42f0ec60fdp1d566ajsn9c214feb7bee\"}\n",
    "\n",
    "response = requests.get(url, headers=headers, params = params)\n",
    "\n",
    "response.json()"
   ]
  },
  {
   "cell_type": "code",
   "execution_count": 7,
   "metadata": {},
   "outputs": [],
   "source": [
    "import pandas as pd\n",
    "import json"
   ]
  },
  {
   "cell_type": "code",
   "execution_count": 26,
   "metadata": {},
   "outputs": [],
   "source": [
    "def flight_days(origin, destination, start, end):\n",
    "    '''\n",
    "    This function takes the origin, destination and dates as arguments.\n",
    "    Returns a dictionary that has every day between the two dates with flight information.\n",
    "    '''\n",
    "    dates = pd.Series(pd.date_range(start, end, freq='d').format())\n",
    "    return {date: flight_prices(origin, destination, date) for date in dates}\n"
   ]
  },
  {
   "cell_type": "code",
   "execution_count": 11,
   "metadata": {},
   "outputs": [],
   "source": [
    "def city_code(city_name):\n",
    "    '''This function takes a city name and returns the corresponding code.'''\n",
    "    \n",
    "    url = \"https://skyscanner-skyscanner-flight-search-v1.p.rapidapi.com/apiservices/autosuggest/v1.0/US/USD/en-US/\"\n",
    "    \n",
    "    params = {\"query\": city_name}\n",
    "\n",
    "    headers = {\n",
    "        'x-rapidapi-host': \"skyscanner-skyscanner-flight-search-v1.p.rapidapi.com\",\n",
    "        'x-rapidapi-key': \"adaffbc7dbmsh9bb4c42f0ec60fdp1d566ajsn9c214feb7bee\"}\n",
    "\n",
    "    response = requests.get(url, headers = headers, params = params)\n",
    "\n",
    "    return response.json()[\"Places\"][0][\"PlaceId\"]"
   ]
  },
  {
   "cell_type": "code",
   "execution_count": 20,
   "metadata": {},
   "outputs": [],
   "source": [
    "def flight_prices(departure, arrival, date):\n",
    "    \n",
    "    departure_code = city_code(departure)\n",
    "    arrival_code = city_code(arrival)\n",
    "    url = f\"https://skyscanner-skyscanner-flight-search-v1.p.rapidapi.com/apiservices/browsequotes/v1.0/US/USD/en-US/{departure_code}/{arrival_code}/{date}\"\n",
    "\n",
    "    params = {\"inboundpartialdate\":{date}}\n",
    "\n",
    "    headers = {\n",
    "    'x-rapidapi-host': \"skyscanner-skyscanner-flight-search-v1.p.rapidapi.com\",\n",
    "    'x-rapidapi-key': \"adaffbc7dbmsh9bb4c42f0ec60fdp1d566ajsn9c214feb7bee\"}\n",
    "\n",
    "    response = requests.get(url, headers=headers, params=params)\n",
    "\n",
    "    return response.json()"
   ]
  },
  {
   "cell_type": "code",
   "execution_count": 27,
   "metadata": {},
   "outputs": [
    {
     "data": {
      "text/plain": [
       "{'2021-06-06': {'Quotes': [{'QuoteId': 1,\n",
       "    'MinPrice': 57,\n",
       "    'Direct': False,\n",
       "    'OutboundLeg': {'CarrierIds': [1090],\n",
       "     'OriginId': 42414,\n",
       "     'DestinationId': 67652,\n",
       "     'DepartureDate': '2021-06-06T00:00:00'},\n",
       "    'QuoteDateTime': '2021-06-05T09:01:00'},\n",
       "   {'QuoteId': 2,\n",
       "    'MinPrice': 80,\n",
       "    'Direct': True,\n",
       "    'OutboundLeg': {'CarrierIds': [1865],\n",
       "     'OriginId': 42414,\n",
       "     'DestinationId': 67652,\n",
       "     'DepartureDate': '2021-06-06T00:00:00'},\n",
       "    'QuoteDateTime': '2021-06-05T09:01:00'}],\n",
       "  'Carriers': [{'CarrierId': 1865, 'Name': 'Vueling Airlines'},\n",
       "   {'CarrierId': 1090, 'Name': 'Ryanair'}],\n",
       "  'Places': [{'Name': 'Barcelona',\n",
       "    'Type': 'Station',\n",
       "    'PlaceId': 42414,\n",
       "    'IataCode': 'BCN',\n",
       "    'SkyscannerCode': 'BCN',\n",
       "    'CityName': 'Barcelona',\n",
       "    'CityId': 'BARC',\n",
       "    'CountryName': 'Spain'},\n",
       "   {'Name': 'Madrid',\n",
       "    'Type': 'Station',\n",
       "    'PlaceId': 67652,\n",
       "    'IataCode': 'MAD',\n",
       "    'SkyscannerCode': 'MAD',\n",
       "    'CityName': 'Madrid',\n",
       "    'CityId': 'MADR',\n",
       "    'CountryName': 'Spain'}],\n",
       "  'Currencies': [{'Code': 'USD',\n",
       "    'Symbol': '$',\n",
       "    'ThousandsSeparator': ',',\n",
       "    'DecimalSeparator': '.',\n",
       "    'SymbolOnLeft': True,\n",
       "    'SpaceBetweenAmountAndSymbol': False,\n",
       "    'RoundingCoefficient': 0,\n",
       "    'DecimalDigits': 2}]}}"
      ]
     },
     "execution_count": 27,
     "metadata": {},
     "output_type": "execute_result"
    }
   ],
   "source": [
    "flight_days(\"Barcelona\", \"Madrid\", \"06/06/2021\", \"06/06/2021\")"
   ]
  }
 ],
 "metadata": {
  "kernelspec": {
   "display_name": "Python 3",
   "language": "python",
   "name": "python3"
  },
  "language_info": {
   "codemirror_mode": {
    "name": "ipython",
    "version": 3
   },
   "file_extension": ".py",
   "mimetype": "text/x-python",
   "name": "python",
   "nbconvert_exporter": "python",
   "pygments_lexer": "ipython3",
   "version": "3.8.5"
  }
 },
 "nbformat": 4,
 "nbformat_minor": 4
}
